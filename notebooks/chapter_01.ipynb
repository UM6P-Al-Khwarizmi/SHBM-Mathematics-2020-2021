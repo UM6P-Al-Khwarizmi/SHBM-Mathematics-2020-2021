{
 "cells": [
  {
   "cell_type": "markdown",
   "metadata": {},
   "source": [
    "# Elements of Mathematical language and basic reasoning methods"
   ]
  },
  {
   "cell_type": "markdown",
   "metadata": {},
   "source": [
    "In this lecture, we shall introduce different concepts used in Mathematics.\n",
    "Mathematics can be seen as a language. As any language, it has a specific syntax and also a semantic. We may define atomic elements or composite elements (expressions) etc...\n",
    "\n",
    "The fundamental elements are:\n",
    "\n",
    "* **Values**: basic constants, arbitrary components not requiring further mathematical definition\n",
    "\n",
    "* **Variables**: abstract representations or containers of values, referred as unknown or undetermined\n",
    "\n",
    "* **Functions**: ways of associating a value given other values\n",
    "\n",
    "* **Expressions**: combinations of values, variables, and functions"
   ]
  },
  {
   "cell_type": "markdown",
   "metadata": {},
   "source": [
    "### Values"
   ]
  },
  {
   "cell_type": "markdown",
   "metadata": {},
   "source": [
    "Mathematical expressions and structures of all types are made up of values, references to values, and compositions thereof.\n",
    "\n",
    "**examples**\n",
    "\n",
    "* 1, 4, 6, 10\n",
    "* -1, -2, -3\n",
    "* 0\n",
    "* 1.12, 3.14\n",
    "* $\\frac{2}{7}$, $\\frac{-2}{13}$\n",
    "* $\\pi$\n",
    "\n",
    "But, values are not only numbers, they can be anything, from a geometrical figure to a string:\n",
    "\n",
    "* 'abc'\n",
    "* 'hello'\n",
    "* True, False\n",
    "* etc ...\n",
    "\n",
    "The only restriction on a value is that either it cannot be subdivided further or else every one of its subcomponents is a value.\n",
    "\n",
    "The term constant is often used in mathematical writing. It usually means a value, but it can also refer to a variable whose value remains unchanged, either always or over some period of time or over a number of applications of the mathematical model containing references to the constants in question."
   ]
  },
  {
   "cell_type": "markdown",
   "metadata": {},
   "source": [
    "### Variables"
   ]
  },
  {
   "cell_type": "markdown",
   "metadata": {},
   "source": [
    "The introduction of the concept of variable was necessary to the development of Mathematics. It allows us to associate a value to a variable, and use it as an **alias**.\n",
    "Therefor, a variable is a pair (name, value), we then talk about :\n",
    "\n",
    "* the name of the variable\n",
    "* the value of the variable\n",
    "\n",
    "While the value may change, the name will remain the same.\n",
    "When the value of a variable is not defined, we say that we have an **undefined/unkown variable**.\n",
    "\n",
    "The best way to think about it, is through computer science. We shall use Python to define and manipulate some mathematical expressions:"
   ]
  },
  {
   "cell_type": "code",
   "execution_count": 1,
   "metadata": {},
   "outputs": [],
   "source": [
    "x = 1.2"
   ]
  },
  {
   "cell_type": "code",
   "execution_count": 2,
   "metadata": {},
   "outputs": [
    {
     "name": "stdout",
     "output_type": "stream",
     "text": [
      "1.2\n"
     ]
    }
   ],
   "source": [
    "print(x)"
   ]
  },
  {
   "cell_type": "code",
   "execution_count": 3,
   "metadata": {},
   "outputs": [],
   "source": [
    "y = 2"
   ]
  },
  {
   "cell_type": "code",
   "execution_count": 4,
   "metadata": {},
   "outputs": [
    {
     "name": "stdout",
     "output_type": "stream",
     "text": [
      "2\n"
     ]
    }
   ],
   "source": [
    "print(y)"
   ]
  },
  {
   "cell_type": "markdown",
   "metadata": {},
   "source": [
    "In order to add $1.2$ to $2$, we can simply add $x$ to $y$:"
   ]
  },
  {
   "cell_type": "code",
   "execution_count": 5,
   "metadata": {},
   "outputs": [
    {
     "name": "stdout",
     "output_type": "stream",
     "text": [
      "3.2\n"
     ]
    }
   ],
   "source": [
    "print(x+y)"
   ]
  },
  {
   "cell_type": "markdown",
   "metadata": {},
   "source": [
    "### Functions"
   ]
  },
  {
   "cell_type": "markdown",
   "metadata": {},
   "source": [
    "A function yields a value depending on other value(s). The other values on which the value of the function depends are called the arguments of the function. The value of\n",
    "the function is determined uniquely by the values of the arguments.\n",
    "\n",
    "In addition to its arguments, a function can be defined explicitly or implicity. For the moment, we shall only consider the first case.\n",
    "\n",
    "Explicit functions needs a **body**, where all the computations or associations are done. A body can be a mathematical expression or a sequence of expressions.\n",
    "\n",
    "As an example, we consider the function **add**, that sums up two variables or values.\n"
   ]
  },
  {
   "cell_type": "code",
   "execution_count": 6,
   "metadata": {},
   "outputs": [],
   "source": [
    "add = lambda x,y : x+y"
   ]
  },
  {
   "cell_type": "code",
   "execution_count": 7,
   "metadata": {},
   "outputs": [
    {
     "data": {
      "text/plain": [
       "5"
      ]
     },
     "execution_count": 7,
     "metadata": {},
     "output_type": "execute_result"
    }
   ],
   "source": [
    "add(2,3)"
   ]
  },
  {
   "cell_type": "markdown",
   "metadata": {},
   "source": [
    "Such a function is only defined for numerical variables or numbers. We cannot talk about **add('hello', ' world')** without giving it a meaning."
   ]
  },
  {
   "cell_type": "code",
   "execution_count": 8,
   "metadata": {},
   "outputs": [
    {
     "data": {
      "text/plain": [
       "'hello world'"
      ]
     },
     "execution_count": 8,
     "metadata": {},
     "output_type": "execute_result"
    }
   ],
   "source": [
    "add('hello', ' world')"
   ]
  },
  {
   "cell_type": "markdown",
   "metadata": {},
   "source": [
    "That's exactly what Python is doing!!"
   ]
  },
  {
   "cell_type": "markdown",
   "metadata": {},
   "source": [
    "Let's take another example"
   ]
  },
  {
   "cell_type": "code",
   "execution_count": 9,
   "metadata": {},
   "outputs": [],
   "source": [
    "is_greater = lambda x,y : x > y"
   ]
  },
  {
   "cell_type": "code",
   "execution_count": 10,
   "metadata": {},
   "outputs": [
    {
     "data": {
      "text/plain": [
       "True"
      ]
     },
     "execution_count": 10,
     "metadata": {},
     "output_type": "execute_result"
    }
   ],
   "source": [
    "is_greater(3, 2)"
   ]
  },
  {
   "cell_type": "code",
   "execution_count": 11,
   "metadata": {},
   "outputs": [
    {
     "data": {
      "text/plain": [
       "False"
      ]
     },
     "execution_count": 11,
     "metadata": {},
     "output_type": "execute_result"
    }
   ],
   "source": [
    "is_greater(3, 4)"
   ]
  },
  {
   "cell_type": "code",
   "execution_count": 12,
   "metadata": {},
   "outputs": [
    {
     "ename": "TypeError",
     "evalue": "'>' not supported between instances of 'str' and 'int'",
     "output_type": "error",
     "traceback": [
      "\u001b[0;31m---------------------------------------------------------------------------\u001b[0m",
      "\u001b[0;31mTypeError\u001b[0m                                 Traceback (most recent call last)",
      "\u001b[0;32m<ipython-input-12-f24e1fceeee1>\u001b[0m in \u001b[0;36m<module>\u001b[0;34m\u001b[0m\n\u001b[0;32m----> 1\u001b[0;31m \u001b[0mis_greater\u001b[0m\u001b[0;34m(\u001b[0m\u001b[0;34m'hello'\u001b[0m\u001b[0;34m,\u001b[0m \u001b[0;36m3\u001b[0m\u001b[0;34m)\u001b[0m\u001b[0;34m\u001b[0m\u001b[0;34m\u001b[0m\u001b[0m\n\u001b[0m",
      "\u001b[0;32m<ipython-input-9-d1c5e63b4d0d>\u001b[0m in \u001b[0;36m<lambda>\u001b[0;34m(x, y)\u001b[0m\n\u001b[0;32m----> 1\u001b[0;31m \u001b[0mis_greater\u001b[0m \u001b[0;34m=\u001b[0m \u001b[0;32mlambda\u001b[0m \u001b[0mx\u001b[0m\u001b[0;34m,\u001b[0m\u001b[0my\u001b[0m \u001b[0;34m:\u001b[0m \u001b[0mx\u001b[0m \u001b[0;34m>\u001b[0m \u001b[0my\u001b[0m\u001b[0;34m\u001b[0m\u001b[0;34m\u001b[0m\u001b[0m\n\u001b[0m",
      "\u001b[0;31mTypeError\u001b[0m: '>' not supported between instances of 'str' and 'int'"
     ]
    }
   ],
   "source": [
    "is_greater('hello', 3)"
   ]
  },
  {
   "cell_type": "markdown",
   "metadata": {},
   "source": [
    "Python is saying that it cannot compare a string with a number! \n",
    "However, it still can compare strings, because it gives a meaning to this comparison:"
   ]
  },
  {
   "cell_type": "code",
   "execution_count": 13,
   "metadata": {},
   "outputs": [
    {
     "data": {
      "text/plain": [
       "True"
      ]
     },
     "execution_count": 13,
     "metadata": {},
     "output_type": "execute_result"
    }
   ],
   "source": [
    "is_greater('hello', ' world')"
   ]
  },
  {
   "cell_type": "markdown",
   "metadata": {},
   "source": [
    "### Expressions"
   ]
  },
  {
   "cell_type": "markdown",
   "metadata": {},
   "source": [
    "The notion of an expression in the Language of Mathematics, is equivalent to a phrase or a sentence in any traditional language.\n",
    "\n",
    "Expressions are the highest-level elements in the Language of Mathematics. Expressions can be combined in certain ways to form another expression, much as in English, phrases are combined to form a larger phrase, a clause, or a sentence and clauses are combined to form a complete sentence. An expression in the Language of Mathematics corresponds to a phrase, clause, or sentence in English, depending\n",
    "on whether the value of the mathematical expression is a logical value (false, true) or not (i.e., anything else) and whether and how it is combined with other expressions.\n",
    "\n",
    "More generaly, an expression is one of the following:\n",
    "* value\n",
    "* A reference to the value of a variable: that is, a variable name\n",
    "* A reference to the value of a function: that is, a function name followed by a list of arguments separated by commas and enclosed in parentheses\n",
    "* A certain combination of expressions"
   ]
  },
  {
   "cell_type": "markdown",
   "metadata": {},
   "source": [
    "#### Expressions as Trees"
   ]
  },
  {
   "cell_type": "markdown",
   "metadata": {},
   "source": [
    "In order to understand the structure of a mathematical expression, we shall use Symbolic Calculus in Python to get a hint on how a mathematical expression is constructed."
   ]
  },
  {
   "cell_type": "code",
   "execution_count": 14,
   "metadata": {},
   "outputs": [],
   "source": [
    "# the following allows to use x,y as symbols\n",
    "from sympy.abc import x,y"
   ]
  },
  {
   "cell_type": "code",
   "execution_count": 15,
   "metadata": {},
   "outputs": [
    {
     "data": {
      "text/latex": [
       "$\\displaystyle x^{2} + x y$"
      ],
      "text/plain": [
       "x**2 + x*y"
      ]
     },
     "execution_count": 15,
     "metadata": {},
     "output_type": "execute_result"
    }
   ],
   "source": [
    "x**2+x*y"
   ]
  },
  {
   "cell_type": "markdown",
   "metadata": {},
   "source": [
    "Our expression can be represented as a tree"
   ]
  },
  {
   "cell_type": "markdown",
   "metadata": {},
   "source": [
    "![title](figures/graph-expr-ex1.png)"
   ]
  },
  {
   "cell_type": "code",
   "execution_count": 16,
   "metadata": {},
   "outputs": [],
   "source": [
    "from sympy import srepr"
   ]
  },
  {
   "cell_type": "code",
   "execution_count": 17,
   "metadata": {},
   "outputs": [
    {
     "data": {
      "text/plain": [
       "\"Add(Pow(Symbol('x'), Integer(2)), Mul(Symbol('x'), Symbol('y')))\""
      ]
     },
     "execution_count": 17,
     "metadata": {},
     "output_type": "execute_result"
    }
   ],
   "source": [
    "srepr(x**2+x*y)"
   ]
  },
  {
   "cell_type": "markdown",
   "metadata": {},
   "source": [
    "**Exercises**"
   ]
  },
  {
   "cell_type": "markdown",
   "metadata": {},
   "source": [
    "# Common Structures"
   ]
  },
  {
   "cell_type": "markdown",
   "metadata": {},
   "source": [
    "## Sets"
   ]
  },
  {
   "cell_type": "markdown",
   "metadata": {},
   "source": [
    "A set is a collection of different values. The word different here emphasizes that the values in a set are distinguishable from one another. Put still another way, any particular value occurs at most once in a set. Each value in a set is called an element or a member of the set. No two elements of a set are the same - no two elements of a set are equal to each other. A set may be empty, that is, it contains no element.\n",
    "\n",
    "As for functions, a set can be defined either explicitly or implicitly.\n",
    "In the explicit case, a set is to enclose a list of its elements in braces:"
   ]
  },
  {
   "cell_type": "code",
   "execution_count": 18,
   "metadata": {},
   "outputs": [],
   "source": [
    "from sympy import Set, FiniteSet"
   ]
  },
  {
   "cell_type": "code",
   "execution_count": 19,
   "metadata": {},
   "outputs": [
    {
     "data": {
      "text/latex": [
       "$\\displaystyle Set\\left(1, 4, a, b\\right)$"
      ],
      "text/plain": [
       "Set(1, 4, a, b)"
      ]
     },
     "execution_count": 19,
     "metadata": {},
     "output_type": "execute_result"
    }
   ],
   "source": [
    "Set(1, 4, 'a', 'b')"
   ]
  },
  {
   "cell_type": "code",
   "execution_count": 20,
   "metadata": {},
   "outputs": [
    {
     "data": {
      "text/latex": [
       "$\\displaystyle \\left\\{1, 4, a, b\\right\\}$"
      ],
      "text/plain": [
       "{1, 4, a, b}"
      ]
     },
     "execution_count": 20,
     "metadata": {},
     "output_type": "execute_result"
    }
   ],
   "source": [
    "FiniteSet(1, 4, 'a', 'b')"
   ]
  },
  {
   "cell_type": "markdown",
   "metadata": {},
   "source": [
    "A set is a structure of values. A set itself is also a value. Hence, one of the elements in a set can, itself, be a set."
   ]
  },
  {
   "cell_type": "code",
   "execution_count": 21,
   "metadata": {},
   "outputs": [
    {
     "data": {
      "text/latex": [
       "$\\displaystyle \\left\\{1, 4, \\left\\{a, b\\right\\}\\right\\}$"
      ],
      "text/plain": [
       "{1, 4, {a, b}}"
      ]
     },
     "execution_count": 21,
     "metadata": {},
     "output_type": "execute_result"
    }
   ],
   "source": [
    "FiniteSet(1, 4, FiniteSet('a', 'b'))"
   ]
  },
  {
   "cell_type": "markdown",
   "metadata": {},
   "source": [
    "Some common sets arising in mathematical work, the symbols used to refer to\n",
    "them, and their definitions are:\n",
    "\n",
    "* **Natural numbers**: $\\mathbb{N}$ = {1, 2, 3, ...}\n",
    "* **Natural numbers with zero**: $\\mathbb{N}_0$ = {0, 1, 2, 3, ...}\n",
    "* **Integers**: $\\mathbb{Z}$ = {... –3, −2, −1, 0, 1, 2, 3, ...}\n",
    "* **Rational numbers**: $\\mathbb{Q}$ = {$\\frac{a}{b}$, where a and b are integers and b is not 0}\n",
    "* **Boolean**: $\\mathbb{B}$ = {false, true}\n",
    "* **Real numbers**: $\\mathbb{R}$ \n",
    "\n",
    "The real numbers include all the rational numbers and, in addition, the irrational numbers, numbers that cannot be expressed as the ratio of two integers. \n",
    "Some examples of irrational numbers are \n",
    "\n",
    "* $\\sqrt{2}$ the square root of 2, \n",
    "* $\\pi$ the ratio of the circumference of a circle to its diameter, \n",
    "* $e$ the base of the natural logarithms, "
   ]
  },
  {
   "cell_type": "markdown",
   "metadata": {},
   "source": [
    "An ordinary set has no internal arrangement or organization; it is an amorphous collection of its elements. Various arrangements of the elements of a set can be\n",
    "defined, if desired.\n",
    "\n",
    "An order can be defined on a set by defining a Boolean function (a function whose value is an element of $\\mathbb{B}$ ) exhibiting certain properties. An ordering function, called **order** below, must have two arguments, each of which is a value in the set in\n",
    "question and must have the following two properties, where the variables $x$, $y$, and $z$ have values in the set.\n",
    "* If $order(x, y)$ is **true**, the values of x and y are different and the value of $order(y, x)$ is **false**.\n",
    "* If $order(x, y)$ and $order(y, z)$ are both **true**, $order(x, z)$ is **true**. This is called\n",
    "the **transitive** property."
   ]
  },
  {
   "cell_type": "markdown",
   "metadata": {},
   "source": [
    "### Element Of\n",
    "\n",
    "The function **... is an element of the set ...** has the value true or false, depending on whether or not the value of the first argument (which may be any value) is a\n",
    "member of the value of the second argument (which may be any set). The infix symbol $\\in$ is used for this function. For example, the value of the expression $4 \\in \\mathbb{Z}$\n",
    "is true, but the value of the expression $2.3 \\in \\mathbb{Z}$ is false. In this case, we write $2.3 \\notin \\mathbb{Z}$"
   ]
  },
  {
   "cell_type": "code",
   "execution_count": 22,
   "metadata": {},
   "outputs": [],
   "source": [
    "from sympy.abc import a,b,c,x,y,z"
   ]
  },
  {
   "cell_type": "code",
   "execution_count": 23,
   "metadata": {},
   "outputs": [
    {
     "data": {
      "text/plain": [
       "True"
      ]
     },
     "execution_count": 23,
     "metadata": {},
     "output_type": "execute_result"
    }
   ],
   "source": [
    "A = FiniteSet(a,b,c)\n",
    "a in A"
   ]
  },
  {
   "cell_type": "code",
   "execution_count": 24,
   "metadata": {},
   "outputs": [
    {
     "ename": "TypeError",
     "evalue": "contains did not evaluate to a bool: Contains(x, {a, b, c})",
     "output_type": "error",
     "traceback": [
      "\u001b[0;31m---------------------------------------------------------------------------\u001b[0m",
      "\u001b[0;31mTypeError\u001b[0m                                 Traceback (most recent call last)",
      "\u001b[0;32m<ipython-input-24-8a17930d4149>\u001b[0m in \u001b[0;36m<module>\u001b[0;34m\u001b[0m\n\u001b[0;32m----> 1\u001b[0;31m \u001b[0mx\u001b[0m \u001b[0;32min\u001b[0m \u001b[0mA\u001b[0m\u001b[0;34m\u001b[0m\u001b[0;34m\u001b[0m\u001b[0m\n\u001b[0m",
      "\u001b[0;32m~/.local/lib/python3.8/site-packages/sympy/sets/sets.py\u001b[0m in \u001b[0;36m__contains__\u001b[0;34m(self, other)\u001b[0m\n\u001b[1;32m    555\u001b[0m         \u001b[0msymb\u001b[0m \u001b[0;34m=\u001b[0m \u001b[0msympify\u001b[0m\u001b[0;34m(\u001b[0m\u001b[0mself\u001b[0m\u001b[0;34m.\u001b[0m\u001b[0mcontains\u001b[0m\u001b[0;34m(\u001b[0m\u001b[0mother\u001b[0m\u001b[0;34m)\u001b[0m\u001b[0;34m)\u001b[0m\u001b[0;34m\u001b[0m\u001b[0;34m\u001b[0m\u001b[0m\n\u001b[1;32m    556\u001b[0m         \u001b[0;32mif\u001b[0m \u001b[0;32mnot\u001b[0m \u001b[0;34m(\u001b[0m\u001b[0msymb\u001b[0m \u001b[0;32mis\u001b[0m \u001b[0mS\u001b[0m\u001b[0;34m.\u001b[0m\u001b[0mtrue\u001b[0m \u001b[0;32mor\u001b[0m \u001b[0msymb\u001b[0m \u001b[0;32mis\u001b[0m \u001b[0mS\u001b[0m\u001b[0;34m.\u001b[0m\u001b[0mfalse\u001b[0m\u001b[0;34m)\u001b[0m\u001b[0;34m:\u001b[0m\u001b[0;34m\u001b[0m\u001b[0;34m\u001b[0m\u001b[0m\n\u001b[0;32m--> 557\u001b[0;31m             \u001b[0;32mraise\u001b[0m \u001b[0mTypeError\u001b[0m\u001b[0;34m(\u001b[0m\u001b[0;34m'contains did not evaluate to a bool: %r'\u001b[0m \u001b[0;34m%\u001b[0m \u001b[0msymb\u001b[0m\u001b[0;34m)\u001b[0m\u001b[0;34m\u001b[0m\u001b[0;34m\u001b[0m\u001b[0m\n\u001b[0m\u001b[1;32m    558\u001b[0m         \u001b[0;32mreturn\u001b[0m \u001b[0mbool\u001b[0m\u001b[0;34m(\u001b[0m\u001b[0msymb\u001b[0m\u001b[0;34m)\u001b[0m\u001b[0;34m\u001b[0m\u001b[0;34m\u001b[0m\u001b[0m\n\u001b[1;32m    559\u001b[0m \u001b[0;34m\u001b[0m\u001b[0m\n",
      "\u001b[0;31mTypeError\u001b[0m: contains did not evaluate to a bool: Contains(x, {a, b, c})"
     ]
    }
   ],
   "source": [
    "x in A"
   ]
  },
  {
   "cell_type": "markdown",
   "metadata": {},
   "source": [
    "### Union\n",
    "\n",
    "The union of two sets is the set containing those elements that are in either (or both) of the argument sets. The infix symbol $\\cup$ is used for this function. For example,\n",
    "the value of the expression $\\{1, 3, 5\\} \\cup \\{2, 4, 5, 6\\}$ is the set $\\{1, 2, 3, 4, 5, 6\\}$."
   ]
  },
  {
   "cell_type": "code",
   "execution_count": 25,
   "metadata": {},
   "outputs": [],
   "source": [
    "from sympy import Union"
   ]
  },
  {
   "cell_type": "code",
   "execution_count": 26,
   "metadata": {},
   "outputs": [],
   "source": [
    "from sympy.abc import a,b,c,x,y,z"
   ]
  },
  {
   "cell_type": "code",
   "execution_count": 27,
   "metadata": {},
   "outputs": [
    {
     "data": {
      "text/latex": [
       "$\\displaystyle Set\\left(a, b, c\\right) \\cup Set\\left(x, y, z\\right)$"
      ],
      "text/plain": [
       "Union(Set(a, b, c), Set(x, y, z))"
      ]
     },
     "execution_count": 27,
     "metadata": {},
     "output_type": "execute_result"
    }
   ],
   "source": [
    "A = Set(a,b,c)\n",
    "B = Set(x,y,z)\n",
    "Union(A,B)"
   ]
  },
  {
   "cell_type": "code",
   "execution_count": 28,
   "metadata": {},
   "outputs": [
    {
     "data": {
      "text/latex": [
       "$\\displaystyle \\left\\{a, b, c, x, y, z\\right\\}$"
      ],
      "text/plain": [
       "{a, b, c, x, y, z}"
      ]
     },
     "execution_count": 28,
     "metadata": {},
     "output_type": "execute_result"
    }
   ],
   "source": [
    "A = FiniteSet(a,b,c)\n",
    "B = FiniteSet(x,y,z)\n",
    "Union(A,B)"
   ]
  },
  {
   "cell_type": "markdown",
   "metadata": {},
   "source": [
    "### Intersection\n",
    "\n",
    "The intersection of two sets is the set containing those elements that are in both\n",
    "of the argument sets. The infix symbol $\\cap$ is used for this function. For example,\n",
    "the value of the expression $\\{1, 3, 5\\} \\cap \\{2, 4, 6\\}$ is the set containing no element\n",
    "(i.e., the empty set, written { } or, more commonly, $\\emptyset$). The value of the expression\n",
    "$\\{1, 3, 5\\}\\cap\\{1, 2, 3, 4\\}$ is the set $\\{1, 3\\}$."
   ]
  },
  {
   "cell_type": "code",
   "execution_count": 29,
   "metadata": {},
   "outputs": [],
   "source": [
    "from sympy import Intersection"
   ]
  },
  {
   "cell_type": "code",
   "execution_count": 30,
   "metadata": {},
   "outputs": [],
   "source": [
    "from sympy.abc import a,b,c,x,y,z"
   ]
  },
  {
   "cell_type": "code",
   "execution_count": 31,
   "metadata": {},
   "outputs": [
    {
     "data": {
      "text/latex": [
       "$\\displaystyle Set\\left(a, b\\right) \\cap Set\\left(b, c\\right)$"
      ],
      "text/plain": [
       "Intersection(Set(a, b), Set(b, c))"
      ]
     },
     "execution_count": 31,
     "metadata": {},
     "output_type": "execute_result"
    }
   ],
   "source": [
    "X = Set(a,b)\n",
    "Y = Set(b,c)\n",
    "Intersection(X,Y)"
   ]
  },
  {
   "cell_type": "code",
   "execution_count": 32,
   "metadata": {},
   "outputs": [
    {
     "data": {
      "text/latex": [
       "$\\displaystyle \\left\\{3\\right\\}$"
      ],
      "text/plain": [
       "{3}"
      ]
     },
     "execution_count": 32,
     "metadata": {},
     "output_type": "execute_result"
    }
   ],
   "source": [
    "X = FiniteSet(1,3)\n",
    "Y = FiniteSet(2,3,4)\n",
    "Intersection(X,Y)"
   ]
  },
  {
   "cell_type": "markdown",
   "metadata": {},
   "source": [
    "### Cartesian product\n",
    "\n",
    "The Cartesian product of two sets is the set of ordered pairs of elements in the two sets. The infix symbol $\\times$ is used for this function. By ordered pair is meant\n",
    "a pair of values, the first value being in the first set and the second value being in the second set. \n",
    "\n",
    "**Example :** \n",
    "the value of the expression $\\{1, 3\\} \\times \\{2, 4, 6\\}$ is the set $\\{(1, 2), (1, 4), (1, 6), (3, 2), (3, 4), (3, 6)\\}$, consisting of six elements, each being a\n",
    "pair of values in the first and second sets, respectively. \n",
    "\n",
    "* The pair $(2, 4)$ is not in the set\n",
    "$\\{1, 3\\}\\times\\{2, 4, 6\\}$ because 2 is not an element of the set $\\{1, 3\\}$. \n",
    "\n",
    "* The pair $(1, 3)$ is not\n",
    "in the set $\\{1, 3\\}\\times\\{2, 4, 6\\}$ because 3 is not an element of the set $\\{2, 4, 6\\}$. \n",
    "\n",
    "* The pair $(2, 3)$ is not in the set $\\{1, 3\\}\\times\\{2, 4, 6\\}$ because 2 is not an element of the set $\\{1, 3\\}$\n",
    "and 3 is not an element of the set $\\{2, 4, 6\\}$. \n",
    "\n",
    "Note that the Cartesian product is not\n",
    "**commutative** (i.e., $S \\times T$ is not, in general, the same as $ T\\times S$)."
   ]
  },
  {
   "cell_type": "code",
   "execution_count": 33,
   "metadata": {},
   "outputs": [],
   "source": [
    "from sympy import ProductSet "
   ]
  },
  {
   "cell_type": "code",
   "execution_count": 34,
   "metadata": {},
   "outputs": [
    {
     "data": {
      "text/latex": [
       "$\\displaystyle \\left\\{1, 3\\right\\} \\times \\left\\{2, 4, 6\\right\\}$"
      ],
      "text/plain": [
       "{1, 3} x {2, 4, 6}"
      ]
     },
     "execution_count": 34,
     "metadata": {},
     "output_type": "execute_result"
    }
   ],
   "source": [
    "X = FiniteSet(1,3)\n",
    "Y = FiniteSet(2,4,6)\n",
    "ProductSet(X,Y)"
   ]
  },
  {
   "cell_type": "markdown",
   "metadata": {},
   "source": [
    "Sometimes, **sympy** is unable to **evaluate** a symbolic expression. In this case, you can cast it to the native **set** object using"
   ]
  },
  {
   "cell_type": "code",
   "execution_count": 35,
   "metadata": {},
   "outputs": [
    {
     "data": {
      "text/plain": [
       "{(1, 2), (1, 4), (1, 6), (3, 2), (3, 4), (3, 6)}"
      ]
     },
     "execution_count": 35,
     "metadata": {},
     "output_type": "execute_result"
    }
   ],
   "source": [
    "set(ProductSet(X,Y))"
   ]
  },
  {
   "cell_type": "markdown",
   "metadata": {},
   "source": [
    "### Difference\n",
    "\n",
    "The difference of two sets is the set of elements in one set but not in the other. The\n",
    "infix symbols $\\setminus$ and $-$ are used for this function. The symbol $\\setminus$ is the more traditional\n",
    "one, but the normal minus sign ($−$) has come into increasing use. \n",
    "\n",
    "**Example :** \n",
    "the value of the expression $\\{1, 2, 3, 4\\} \\setminus \\{2, 4, 6, 8\\}$ is the set $\\{1, 3\\}$, the set of elements\n",
    "in the first set that are not in the second set. \n",
    "\n",
    "In other words, the set $X \\setminus Y$ is the set $X$\n",
    "with the elements that are also in $Y$ removed."
   ]
  },
  {
   "cell_type": "code",
   "execution_count": 36,
   "metadata": {},
   "outputs": [
    {
     "data": {
      "text/latex": [
       "$\\displaystyle \\left\\{3\\right\\}$"
      ],
      "text/plain": [
       "{3}"
      ]
     },
     "execution_count": 36,
     "metadata": {},
     "output_type": "execute_result"
    }
   ],
   "source": [
    "X = FiniteSet(1,3,4)\n",
    "Y = FiniteSet(1,2,4,6)\n",
    "X-Y"
   ]
  },
  {
   "cell_type": "markdown",
   "metadata": {},
   "source": [
    "while"
   ]
  },
  {
   "cell_type": "code",
   "execution_count": 37,
   "metadata": {},
   "outputs": [
    {
     "data": {
      "text/latex": [
       "$\\displaystyle \\left\\{2, 6\\right\\}$"
      ],
      "text/plain": [
       "{2, 6}"
      ]
     },
     "execution_count": 37,
     "metadata": {},
     "output_type": "execute_result"
    }
   ],
   "source": [
    "Y-X"
   ]
  },
  {
   "cell_type": "markdown",
   "metadata": {},
   "source": [
    "This means that $\\setminus$ is not **symmetric**."
   ]
  },
  {
   "cell_type": "markdown",
   "metadata": {},
   "source": [
    "### Subset\n",
    "\n",
    "One set is a subset of another set if every element of the first set is also an element\n",
    "of the second set. The infix symbol $\\subset$ is used for the corresponding function, whose value is Boolean (i.e., is either “false” or “true”). Thus, the value of the expression\n",
    "$A \\subset B$ is true if and only if every element of the set $A$ is also an element of the set $B$.\n",
    "\n",
    "If any element of the set $A$ is not an element of the set $B$, the value of the expression\n",
    "$A \\subset B$ is false. Note that every set is a subset of itself by this definition."
   ]
  },
  {
   "cell_type": "code",
   "execution_count": 38,
   "metadata": {},
   "outputs": [
    {
     "data": {
      "text/plain": [
       "True"
      ]
     },
     "execution_count": 38,
     "metadata": {},
     "output_type": "execute_result"
    }
   ],
   "source": [
    "X = FiniteSet(1,3,4)\n",
    "Y = FiniteSet(1,3,4,6)\n",
    "X.is_subset(Y)"
   ]
  },
  {
   "cell_type": "markdown",
   "metadata": {},
   "source": [
    "In **sympy**, we can use the *inverse* operator as well, meaning if a set is a **super-set** of another set:"
   ]
  },
  {
   "cell_type": "code",
   "execution_count": 39,
   "metadata": {},
   "outputs": [
    {
     "data": {
      "text/plain": [
       "True"
      ]
     },
     "execution_count": 39,
     "metadata": {},
     "output_type": "execute_result"
    }
   ],
   "source": [
    "Y.is_superset(X)"
   ]
  },
  {
   "cell_type": "markdown",
   "metadata": {},
   "source": [
    "### Symmetric difference\n",
    "\n",
    "Unlike the difference operator, which is not symmetric, we can define the symmetric difference of two sets $A$ and $B$ as the set that contains only uncommon elements in both sets"
   ]
  },
  {
   "cell_type": "code",
   "execution_count": 40,
   "metadata": {},
   "outputs": [],
   "source": [
    "from sympy import SymmetricDifference"
   ]
  },
  {
   "cell_type": "code",
   "execution_count": 41,
   "metadata": {},
   "outputs": [
    {
     "data": {
      "text/latex": [
       "$\\displaystyle \\left\\{2, 3, 6\\right\\}$"
      ],
      "text/plain": [
       "{2, 3, 6}"
      ]
     },
     "execution_count": 41,
     "metadata": {},
     "output_type": "execute_result"
    }
   ],
   "source": [
    "X = FiniteSet(1,3,4)\n",
    "Y = FiniteSet(1,2,4,6)\n",
    "SymmetricDifference(X,Y)"
   ]
  },
  {
   "cell_type": "markdown",
   "metadata": {},
   "source": [
    "### Equality\n",
    "\n",
    "Two sets are equal to each other if and only if they contain exactly the same elements, that is, if and only if each is a subset of the other.\n",
    "\n",
    "If the set A is a subset of the set B, the sets A and B may or may not be equal to each other."
   ]
  },
  {
   "cell_type": "code",
   "execution_count": 42,
   "metadata": {},
   "outputs": [
    {
     "data": {
      "text/plain": [
       "True"
      ]
     },
     "execution_count": 42,
     "metadata": {},
     "output_type": "execute_result"
    }
   ],
   "source": [
    "X = FiniteSet(1,3,4)\n",
    "Y = FiniteSet(1,3,4)\n",
    "X == Y"
   ]
  },
  {
   "cell_type": "code",
   "execution_count": 43,
   "metadata": {},
   "outputs": [
    {
     "data": {
      "text/plain": [
       "False"
      ]
     },
     "execution_count": 43,
     "metadata": {},
     "output_type": "execute_result"
    }
   ],
   "source": [
    "X = FiniteSet(1,3,4)\n",
    "Y = FiniteSet(1,2,4)\n",
    "X == Y"
   ]
  },
  {
   "cell_type": "code",
   "execution_count": null,
   "metadata": {},
   "outputs": [],
   "source": []
  },
  {
   "cell_type": "code",
   "execution_count": null,
   "metadata": {},
   "outputs": [],
   "source": []
  },
  {
   "cell_type": "code",
   "execution_count": 44,
   "metadata": {},
   "outputs": [
    {
     "data": {
      "text/html": [
       "<link href='http://fonts.googleapis.com/css?family=Fenix' rel='stylesheet' type='text/css'>\n",
       "<link href='http://fonts.googleapis.com/css?family=Alegreya+Sans:100,300,400,500,700,800,900,100italic,300italic,400italic,500italic,700italic,800italic,900italic' rel='stylesheet' type='text/css'>\n",
       "<link href='http://fonts.googleapis.com/css?family=Source+Code+Pro:300,400' rel='stylesheet' type='text/css'>\n",
       "<style>\n",
       "    @font-face {\n",
       "        font-family: \"Computer Modern\";\n",
       "        src: url('http://mirrors.ctan.org/fonts/cm-unicode/fonts/otf/cmunss.otf');\n",
       "    }\n",
       "    div.cell{\n",
       "        width:600px;\n",
       "        margin-left:16% !important;\n",
       "        margin-right:auto;\n",
       "    }\n",
       "    h1 {\n",
       "        font-family: 'Alegreya Sans', sans-serif;\n",
       "    }\n",
       "    h2 {\n",
       "        font-family: 'Fenix', serif;\n",
       "    }\n",
       "    h3{\n",
       "\t\tfont-family: 'Fenix', serif;\n",
       "        margin-top:12px;\n",
       "        margin-bottom: 3px;\n",
       "       }\n",
       "\th4{\n",
       "\t\tfont-family: 'Fenix', serif;\n",
       "       }\n",
       "    h5 {\n",
       "        font-family: 'Alegreya Sans', sans-serif;\n",
       "    }\t   \n",
       "    div.text_cell_render{\n",
       "        font-family: 'Alegreya Sans',Computer Modern, \"Helvetica Neue\", Arial, Helvetica, Geneva, sans-serif;\n",
       "        line-height: 135%;\n",
       "        font-size: 120%;\n",
       "        width:600px;\n",
       "        margin-left:auto;\n",
       "        margin-right:auto;\n",
       "    }\n",
       "    .CodeMirror{\n",
       "            font-family: \"Source Code Pro\";\n",
       "\t\t\tfont-size: 90%;\n",
       "    }\n",
       "/*    .prompt{\n",
       "        display: None;\n",
       "    }*/\n",
       "    .text_cell_render h1 {\n",
       "        font-weight: 200;\n",
       "        font-size: 50pt;\n",
       "\t\tline-height: 100%;\n",
       "        color:#054BCD;\n",
       "        margin-bottom: 0.5em;\n",
       "        margin-top: 0.5em;\n",
       "        display: block;\n",
       "    }\t\n",
       "    .text_cell_render h5 {\n",
       "        font-weight: 300;\n",
       "        font-size: 16pt;\n",
       "        color: #054BCD;\n",
       "        font-style: italic;\n",
       "        margin-bottom: .5em;\n",
       "        margin-top: 0.5em;\n",
       "        display: block;\n",
       "    }\n",
       "    \n",
       "    .warning{\n",
       "        color: rgb( 240, 20, 20 )\n",
       "        }  \n",
       "</style>\n",
       "<script>\n",
       "    MathJax.Hub.Config({\n",
       "                        TeX: {\n",
       "                           extensions: [\"AMSmath.js\"]\n",
       "                           },\n",
       "                tex2jax: {\n",
       "                    inlineMath: [ ['$','$'], [\"\\\\(\",\"\\\\)\"] ],\n",
       "                    displayMath: [ ['$$','$$'], [\"\\\\[\",\"\\\\]\"] ]\n",
       "                },\n",
       "                displayAlign: 'center', // Change this to 'center' to center equations.\n",
       "                \"HTML-CSS\": {\n",
       "                    styles: {'.MathJax_Display': {\"margin\": 4}}\n",
       "                }\n",
       "        });\n",
       "</script>\n"
      ],
      "text/plain": [
       "<IPython.core.display.HTML object>"
      ]
     },
     "execution_count": 44,
     "metadata": {},
     "output_type": "execute_result"
    }
   ],
   "source": [
    "# css style\n",
    "from IPython.core.display import HTML\n",
    "def css_styling():\n",
    "    styles = open(\"../styles/custom.css\", \"r\").read()\n",
    "    return HTML(styles)\n",
    "css_styling()\n",
    "\n"
   ]
  },
  {
   "cell_type": "code",
   "execution_count": null,
   "metadata": {},
   "outputs": [],
   "source": []
  },
  {
   "cell_type": "code",
   "execution_count": null,
   "metadata": {},
   "outputs": [],
   "source": []
  }
 ],
 "metadata": {
  "kernelspec": {
   "display_name": "Python 3",
   "language": "python",
   "name": "python3"
  },
  "language_info": {
   "codemirror_mode": {
    "name": "ipython",
    "version": 3
   },
   "file_extension": ".py",
   "mimetype": "text/x-python",
   "name": "python",
   "nbconvert_exporter": "python",
   "pygments_lexer": "ipython3",
   "version": "3.8.5"
  }
 },
 "nbformat": 4,
 "nbformat_minor": 4
}
